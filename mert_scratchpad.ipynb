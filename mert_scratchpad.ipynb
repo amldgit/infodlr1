{
 "cells": [
  {
   "cell_type": "code",
   "execution_count": 1,
   "id": "77a9257a",
   "metadata": {},
   "outputs": [],
   "source": [
    "import numpy as np\n",
    "import pandas as pd\n",
    "import scipy.io\n",
    "import matplotlib.pyplot as plt\n",
    "\n",
    "#The data is in a .mat file. Load it using scipy.io\n",
    "__mat_data__ = scipy.io.loadmat('Xtrain.mat')\n",
    "# Convert to DataFrame, there is only one variable in the .mat file\n",
    "__df__ = pd.DataFrame(__mat_data__['Xtrain']) \n",
    "dataset = np.array(__df__.to_numpy(), dtype=np.float32)  # shape (1000,)\n",
    "\n",
    "def to_sequences(dataset:np.array, seq_size=1):\n",
    "    x = []\n",
    "    y = []\n",
    "\n",
    "    for i in range(len(dataset)-seq_size-1):\n",
    "        #print(i)\n",
    "        window = dataset[i:(i+seq_size)]\n",
    "        x.append(window)\n",
    "        y.append(dataset[i+seq_size])\n",
    "        \n",
    "    return np.array(x),np.array(y)\n",
    "\n",
    "# Create sequences\n",
    "def create_sequences(data, window_size):\n",
    "    X, y = [], []\n",
    "    for i in range(len(data) - window_size):\n",
    "        X.append(data[i:i+window_size])\n",
    "        y.append(data[i+window_size])\n",
    "    return np.array(X), np.array(y)\n",
    "\n",
    "arr1 = to_sequences(dataset, 5)\n",
    "arr2 = create_sequences(dataset, 5)\n",
    "pass"
   ]
  }
 ],
 "metadata": {
  "kernelspec": {
   "display_name": ".venv",
   "language": "python",
   "name": "python3"
  },
  "language_info": {
   "codemirror_mode": {
    "name": "ipython",
    "version": 3
   },
   "file_extension": ".py",
   "mimetype": "text/x-python",
   "name": "python",
   "nbconvert_exporter": "python",
   "pygments_lexer": "ipython3",
   "version": "3.12.5"
  }
 },
 "nbformat": 4,
 "nbformat_minor": 5
}
